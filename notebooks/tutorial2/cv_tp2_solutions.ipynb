{
 "cells": [
  {
   "cell_type": "markdown",
   "metadata": {},
   "source": [
    "# Computer Vision - Linear filtering"
   ]
  },
  {
   "cell_type": "code",
   "execution_count": null,
   "metadata": {},
   "outputs": [],
   "source": [
    "%matplotlib inline\n",
    "\n",
    "import cv2\n",
    "import numpy as np\n",
    "import matplotlib.pyplot as plt\n",
    "import matplotlib.cm as cm\n",
    "from ipywidgets import interact\n",
    "\n",
    "plt.rcParams['figure.figsize'] = [12, 8]"
   ]
  },
  {
   "cell_type": "markdown",
   "metadata": {},
   "source": [
    "#### Step 1: load the image\n",
    "Load the image 'airplane' and convert it in grayscale image."
   ]
  },
  {
   "cell_type": "code",
   "execution_count": null,
   "metadata": {},
   "outputs": [],
   "source": [
    "image = cv2.imread('Images/baboon.png')\n",
    "\n",
    "rgb_image = cv2.cvtColor(image, cv2.COLOR_BGR2RGB)\n",
    "gray_image = cv2.cvtColor(image, cv2.COLOR_BGR2GRAY)\n",
    "\n",
    "plt.subplot(1,2,1).set_title('Original image')\n",
    "plt.imshow(rgb_image)\n",
    "plt.subplot(1,2,2).set_title('Gray image')\n",
    "plt.imshow(gray_image, cmap=cm.gray)\n",
    "\n",
    "plt.show()"
   ]
  },
  {
   "cell_type": "markdown",
   "metadata": {},
   "source": [
    "#### Step 2: Average filtering\n",
    "The most basic linear filtering is a moving average of the image.  "
   ]
  },
  {
   "cell_type": "code",
   "execution_count": null,
   "metadata": {},
   "outputs": [],
   "source": [
    "def average_filter(kx, ky):\n",
    "    kernel = np.ones((ky, kx)) / (kx*ky)\n",
    "    avg_image = cv2.filter2D(gray_image, -1, kernel)\n",
    "    \n",
    "    plt.subplot(1,2,1).set_title('Gray image')\n",
    "    plt.imshow(gray_image, cmap=cm.gray)\n",
    "    plt.subplot(1,2,2).set_title('Average filtered image')\n",
    "    plt.imshow(avg_image, cmap=cm.gray)\n",
    "    \n",
    "    plt.show()\n",
    "    \n",
    "interact(average_filter, kx=(1, 11, 2), ky=(1, 11, 2))"
   ]
  },
  {
   "cell_type": "markdown",
   "metadata": {},
   "source": [
    "#### Step 3: Uniform blurring\n",
    "What is the difference between average filtering and uniform blurring?"
   ]
  },
  {
   "cell_type": "code",
   "execution_count": null,
   "metadata": {},
   "outputs": [],
   "source": [
    "def blurring_filter(kx, ky):\n",
    "    kernel = (ky, kx)\n",
    "    blur_image = cv2.blur(gray_image, kernel)\n",
    "    \n",
    "    plt.subplot(1,2,1).set_title('Gray image')\n",
    "    plt.imshow(gray_image, cmap=cm.gray)\n",
    "    plt.subplot(1,2,2).set_title('Blurred image')\n",
    "    plt.imshow(blur_image, cmap=cm.gray)\n",
    "    \n",
    "    plt.show()\n",
    "    \n",
    "interact(blurring_filter, kx=(1, 11, 2), ky=(1, 11, 2))"
   ]
  },
  {
   "cell_type": "markdown",
   "metadata": {},
   "source": [
    "#### Step 4: Gaussian blurring\n",
    "What is the difference between uniform and gaussian blurring?"
   ]
  },
  {
   "cell_type": "code",
   "execution_count": null,
   "metadata": {},
   "outputs": [],
   "source": [
    "def gaussian_filter(kx, ky):\n",
    "    kernel = (ky, kx)\n",
    "    gauss_image = cv2.GaussianBlur(gray_image, kernel, 0)\n",
    "    \n",
    "    plt.subplot(1,2,1).set_title('Gray image')\n",
    "    plt.imshow(gray_image, cmap=cm.gray)\n",
    "    plt.subplot(1,2,2).set_title('Gaussian blurred image')\n",
    "    plt.imshow(gauss_image, cmap=cm.gray)\n",
    "    \n",
    "    plt.show()\n",
    "    \n",
    "interact(gaussian_filter, kx=(1, 11, 2), ky=(1, 11, 2))"
   ]
  },
  {
   "cell_type": "markdown",
   "metadata": {},
   "source": [
    "#### Step 5: High pass filter\n",
    "We can obtain a high pass filtered image by applying a low pas filter and then taking the complementary."
   ]
  },
  {
   "cell_type": "code",
   "execution_count": null,
   "metadata": {},
   "outputs": [],
   "source": [
    "def hp_filter(kx, ky):\n",
    "    kernel = (ky, kx)\n",
    "    gauss_image = cv2.GaussianBlur(gray_image, kernel, 3)\n",
    "    \n",
    "    hp = gray_image - gauss_image\n",
    "    \n",
    "    plt.subplot(1,2,1).set_title('Gray image')\n",
    "    plt.imshow(gray_image, cmap=cm.gray)\n",
    "    plt.subplot(1,2,2).set_title('High pass filtered image')\n",
    "    plt.imshow(hp, cmap=cm.gray)\n",
    "    \n",
    "    plt.show()\n",
    "    \n",
    "interact(hp_filter, kx=(1, 21, 2), ky=(1, 21, 2))"
   ]
  },
  {
   "cell_type": "code",
   "execution_count": null,
   "metadata": {},
   "outputs": [],
   "source": []
  }
 ],
 "metadata": {
  "kernelspec": {
   "display_name": "Python 3",
   "language": "python",
   "name": "python3"
  },
  "language_info": {
   "codemirror_mode": {
    "name": "ipython",
    "version": 3
   },
   "file_extension": ".py",
   "mimetype": "text/x-python",
   "name": "python",
   "nbconvert_exporter": "python",
   "pygments_lexer": "ipython3",
   "version": "3.6.12"
  }
 },
 "nbformat": 4,
 "nbformat_minor": 2
}
